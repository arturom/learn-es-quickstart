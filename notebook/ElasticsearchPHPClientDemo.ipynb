{
 "cells": [
  {
   "cell_type": "code",
   "execution_count": null,
   "metadata": {
    "collapsed": false
   },
   "outputs": [
    {
     "name": "stdout",
     "output_type": "stream",
     "text": [
      "=> Composer\\Autoload\\ClassLoader {#246}"
     ]
    },
    {
     "data": {},
     "execution_count": 1,
     "metadata": {},
     "output_type": "execute_result"
    }
   ],
   "source": [
    "require './vendor/autoload.php';"
   ]
  },
  {
   "cell_type": "code",
   "execution_count": null,
   "metadata": {
    "collapsed": false
   },
   "outputs": [
    {
     "name": "stdout",
     "output_type": "stream",
     "text": [
      "=> Elasticsearch\\Client {#550\n",
      "     +transport: Elasticsearch\\Transport {#548\n",
      "       +connectionPool: Elasticsearch\\ConnectionPool\\StaticNoPingConnectionPool {#547\n",
      "         +\"connectionPoolParams\": [\n",
      "           \"randomizeHosts\" => true,\n",
      "         ],\n",
      "       },\n",
      "       +retryAttempts: 0,\n",
      "       +lastConnection: null,\n",
      "       +retries: 1,\n",
      "     },\n",
      "     +\"tasks\": Elasticsearch\\Namespaces\\TasksNamespace {#556},\n",
      "   }"
     ]
    },
    {
     "data": {},
     "execution_count": 1,
     "metadata": {},
     "output_type": "execute_result"
    }
   ],
   "source": [
    "$logger = Elasticsearch\\ClientBuilder::defaultLogger('logs/elasticsearch-php.log', Monolog\\Logger::INFO);\n",
    "$client = Elasticsearch\\ClientBuilder::create()\n",
    "    ->setHosts(['elasticsearch:9200'])\n",
    "    ->setLogger($logger)\n",
    "    ->build();"
   ]
  },
  {
   "cell_type": "code",
   "execution_count": null,
   "metadata": {
    "collapsed": false
   },
   "outputs": [
    {
     "name": "stdout",
     "output_type": "stream",
     "text": [
      "=> [\n",
      "     \"name\" => \"Mystique\",\n",
      "     \"cluster_name\" => \"elasticsearch\",\n",
      "     \"version\" => [\n",
      "       \"number\" => \"2.3.5\",\n",
      "       \"build_hash\" => \"90f439ff60a3c0f497f91663701e64ccd01edbb4\",\n",
      "       \"build_timestamp\" => \"2016-07-27T10:36:52Z\",\n",
      "       \"build_snapshot\" => false,\n",
      "       \"lucene_version\" => \"5.5.0\",\n",
      "     ],\n",
      "     \"tagline\" => \"You Know, for Search\",\n",
      "   ]"
     ]
    },
    {
     "data": {},
     "execution_count": 1,
     "metadata": {},
     "output_type": "execute_result"
    }
   ],
   "source": [
    "$client->info();"
   ]
  },
  {
   "cell_type": "code",
   "execution_count": null,
   "metadata": {
    "collapsed": false
   },
   "outputs": [
    {
     "name": "stdout",
     "output_type": "stream",
     "text": [
      "=> [\n",
      "     \"_index\" => \"lorem\",\n",
      "     \"_type\" => \"ipsum\",\n",
      "     \"_id\" => \"AVdsufeTRiBoTcjeKyj_\",\n",
      "     \"_version\" => 1,\n",
      "     \"_shards\" => [\n",
      "       \"total\" => 2,\n",
      "       \"successful\" => 1,\n",
      "       \"failed\" => 0,\n",
      "     ],\n",
      "     \"created\" => true,\n",
      "   ]"
     ]
    },
    {
     "data": {},
     "execution_count": 1,
     "metadata": {},
     "output_type": "execute_result"
    }
   ],
   "source": [
    "$indexParams = [\n",
    "    'index' => 'lorem',\n",
    "    'type'  => 'ipsum',\n",
    "    'body'  =>  [\n",
    "        'first' => 'john',\n",
    "        'last'  => 'smith'\n",
    "    ]\n",
    "];\n",
    "$client->index($indexParams);"
   ]
  },
  {
   "cell_type": "code",
   "execution_count": null,
   "metadata": {
    "collapsed": false
   },
   "outputs": [
    {
     "name": "stdout",
     "output_type": "stream",
     "text": [
      "=> [\n",
      "     \"took\" => 3,\n",
      "     \"timed_out\" => false,\n",
      "     \"_shards\" => [\n",
      "       \"total\" => 6,\n",
      "       \"successful\" => 6,\n",
      "       \"failed\" => 0,\n",
      "     ],\n",
      "     \"hits\" => [\n",
      "       \"total\" => 5,\n",
      "       \"max_score\" => 1.0,\n",
      "       \"hits\" => [\n",
      "         [\n",
      "           \"_index\" => \".kibana\",\n",
      "           \"_type\" => \"config\",\n",
      "           \"_id\" => \"4.5.4\",\n",
      "           \"_score\" => 1.0,\n",
      "           \"_source\" => [\n",
      "             \"buildNum\" => 10000,\n",
      "           ],\n",
      "         ],\n",
      "         [\n",
      "           \"_index\" => \"lorem\",\n",
      "           \"_type\" => \"ipsum\",\n",
      "           \"_id\" => \"AVdsrrx6RiBoTcjeKyj3\",\n",
      "           \"_score\" => 1.0,\n",
      "           \"_source\" => [\n",
      "             \"first\" => \"john\",\n",
      "             \"last\" => \"smith\",\n",
      "           ],\n",
      "         ],\n",
      "         [\n",
      "           \"_index\" => \"lorem\",\n",
      "           \"_type\" => \"ipsum\",\n",
      "           \"_id\" => \"AVdssGb1RiBoTcjeKyj4\",\n",
      "           \"_score\" => 1.0,\n",
      "           \"_source\" => [\n",
      "             \"first\" => \"john\",\n",
      "             \"last\" => \"smith\",\n",
      "           ],\n",
      "         ],\n",
      "         [\n",
      "           \"_index\" => \"lorem\",\n",
      "           \"_type\" => \"ipsum\",\n",
      "           \"_id\" => \"AVdstRqlRiBoTcjeKyj-\",\n",
      "           \"_score\" => 1.0,\n",
      "           \"_source\" => [\n",
      "             \"first\" => \"john\",\n",
      "             \"last\" => \"smith\",\n",
      "           ],\n",
      "         ],\n",
      "         [\n",
      "           \"_index\" => \"lorem\",\n",
      "           \"_type\" => \"ipsum\",\n",
      "           \"_id\" => \"AVdsufeTRiBoTcjeKyj_\",\n",
      "           \"_score\" => 1.0,\n",
      "           \"_source\" => [\n",
      "             \"first\" => \"john\",\n",
      "             \"last\" => \"smith\",\n",
      "           ],\n",
      "         ],\n",
      "       ],\n",
      "     ],\n",
      "   ]"
     ]
    },
    {
     "data": {},
     "execution_count": 1,
     "metadata": {},
     "output_type": "execute_result"
    }
   ],
   "source": [
    "$client->search();"
   ]
  }
 ],
 "metadata": {
  "kernelspec": {
   "display_name": "PHP",
   "language": "php",
   "name": "jupyter-php"
  }
 },
 "nbformat": 4,
 "nbformat_minor": 0
}
